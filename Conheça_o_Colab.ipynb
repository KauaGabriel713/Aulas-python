{
  "cells": [
    {
      "cell_type": "markdown",
      "metadata": {
        "id": "view-in-github",
        "colab_type": "text"
      },
      "source": [
        "<a href=\"https://colab.research.google.com/github/KauaGabriel713/Aulas-python/blob/main/Conhe%C3%A7a_o_Colab.ipynb\" target=\"_parent\"><img src=\"https://colab.research.google.com/assets/colab-badge.svg\" alt=\"Open In Colab\"/></a>"
      ]
    },
    {
      "cell_type": "code",
      "source": [
        "def quadrado(a):\n",
        "  return a**2\n",
        "num= int(input('digite um numero:'))\n",
        "resultado = quadrado(num)\n",
        "print(resultado)"
      ],
      "metadata": {
        "id": "BM49sl1PpT8L",
        "outputId": "925c982a-8ad6-4180-a62b-f06d9ea2c06f",
        "colab": {
          "base_uri": "https://localhost:8080/"
        }
      },
      "execution_count": 1,
      "outputs": [
        {
          "output_type": "stream",
          "name": "stdout",
          "text": [
            "digite um numero:7\n",
            "49\n"
          ]
        }
      ]
    },
    {
      "cell_type": "code",
      "source": [
        "#padrão (default)\n",
        "def exibir_horario_aulas(disciplina, horario=9):\n",
        "  print(f'{disciplina} - {horario} horas.')\n",
        "\n",
        "exibir_horario_aulas('Programação')\n",
        "exibir_horario_aulas('Modelagem se software', 15)"
      ],
      "metadata": {
        "id": "-jxBtgclp1MA",
        "outputId": "82af6d68-5131-4ea2-f322-07548e4aa568",
        "colab": {
          "base_uri": "https://localhost:8080/"
        }
      },
      "execution_count": 2,
      "outputs": [
        {
          "output_type": "stream",
          "name": "stdout",
          "text": [
            "Programação - 9 horas.\n",
            "Modelagem se software - 15 horas.\n"
          ]
        }
      ]
    },
    {
      "cell_type": "code",
      "source": [
        "def exibir_produto(nome,preco):\n",
        "  print(f'{nome}: R${preco}')\n",
        "\n",
        "#Argumentos posicionais\n",
        "exibir_produto('doce de leite,', 5.50)\n",
        "exibir_produto(65, 'Bermuda')\n",
        "\n",
        "#Argumentos Nomeados\n",
        "exibir_produto(preco=100, nome='camiseta')"
      ],
      "metadata": {
        "id": "Fes9Aypnq8M_",
        "outputId": "452c8b9a-5196-4573-8b7d-0c7d1781d488",
        "colab": {
          "base_uri": "https://localhost:8080/"
        }
      },
      "execution_count": 12,
      "outputs": [
        {
          "output_type": "stream",
          "name": "stdout",
          "text": [
            "doce de leite,: R$5.5\n",
            "65: R$Bermuda\n",
            "camiseta: R$100\n"
          ]
        }
      ]
    },
    {
      "cell_type": "code",
      "source": [
        "def exibir_jogo(*,nome_jogo, ano_lancamento):\n",
        "  print(f'{nome_jogo}, lançado em {ano_lancamento}.')\n",
        "\n",
        "#apenas um parametro deve ser nomeado\n",
        "def exibir_produto(nome,*, preco):\n",
        "  print(f'{nome} : R${preco}')\n",
        "\n",
        "exibir_jogo(nome_jogo='Mario',ano_lancamento=1985)\n",
        "exibir_produto('Alicate', preco=20)"
      ],
      "metadata": {
        "id": "V26t1F3Vsh4_",
        "outputId": "d6cefca5-cc96-44c2-8d3b-6b026eaf6d1d",
        "colab": {
          "base_uri": "https://localhost:8080/"
        }
      },
      "execution_count": 5,
      "outputs": [
        {
          "output_type": "stream",
          "name": "stdout",
          "text": [
            "Mario, lançado em 1985.\n",
            "Alicate : R$20\n"
          ]
        }
      ]
    },
    {
      "cell_type": "code",
      "source": [
        "def gerar_personagem_game(nome, altura, forca, arma):\n",
        "  print(f'Nome: {nome}')\n",
        "  print(f'Altura: {altura}')\n",
        "  print(f'Força: {forca}')\n",
        "  print(f'Arma: {arma}')\n",
        "\n",
        "gerar_personagem_game('Phartunax', 8.30, forca=999, arma='magia')\n"
      ],
      "metadata": {
        "id": "sZrOUTkZuAU6",
        "outputId": "73712122-307b-456e-96be-f99f2334ebd5",
        "colab": {
          "base_uri": "https://localhost:8080/"
        }
      },
      "execution_count": 11,
      "outputs": [
        {
          "output_type": "stream",
          "name": "stdout",
          "text": [
            "Nome: Phartunax\n",
            "Altura: 8.3\n",
            "Força: 999\n",
            "Arma: magia\n"
          ]
        }
      ]
    },
    {
      "cell_type": "code",
      "source": [
        "def somanotas(*args):\n",
        "  return sum(args)\n",
        "\n",
        "print(somanotas(10,20,30))"
      ],
      "metadata": {
        "id": "bJZdlDA9w31T",
        "outputId": "1cb19c68-b401-447c-9335-6924420f63d0",
        "colab": {
          "base_uri": "https://localhost:8080/"
        }
      },
      "execution_count": 10,
      "outputs": [
        {
          "output_type": "stream",
          "name": "stdout",
          "text": [
            "60\n"
          ]
        }
      ]
    },
    {
      "cell_type": "code",
      "source": [
        "def somar_nums(*args, a):\n",
        "  print(args)\n",
        "  for valor in args:\n",
        "    a +=valor\n",
        "    print(a)\n",
        "\n",
        "somar_nums(10,20,30, a=0)"
      ],
      "metadata": {
        "id": "vlS-RJJXyAm7",
        "outputId": "6864ac6b-34ba-46e2-bd4c-e25f19158c2f",
        "colab": {
          "base_uri": "https://localhost:8080/"
        }
      },
      "execution_count": 13,
      "outputs": [
        {
          "output_type": "stream",
          "name": "stdout",
          "text": [
            "(10, 20, 30)\n",
            "10\n",
            "30\n",
            "60\n"
          ]
        }
      ]
    },
    {
      "cell_type": "code",
      "source": [
        "def concatenar(**palavras):\n",
        "  frase = ''\n",
        "  for palavra in palavras.values():\n",
        "    frase += palavra\n",
        "  print(frase)\n",
        "\n",
        "concatenar(a= 'Eu ', b='é ', c= 'Hequer')"
      ],
      "metadata": {
        "id": "jxtqLfeHypw-",
        "outputId": "79343b47-8802-4d27-d8d0-ab444b4641b8",
        "colab": {
          "base_uri": "https://localhost:8080/"
        }
      },
      "execution_count": 15,
      "outputs": [
        {
          "output_type": "stream",
          "name": "stdout",
          "text": [
            "Eu é Hequer\n"
          ]
        }
      ]
    },
    {
      "cell_type": "code",
      "source": [
        "from datetime import date, datetime\n",
        "data_atual = date.today()\n",
        "datahora_atual = datetime.now()\n",
        "print(data_atual)\n",
        "print(datahora_atual)"
      ],
      "metadata": {
        "id": "7nhIdSUX0V6e",
        "outputId": "fed98a56-6767-4075-9e70-663c2c9c5475",
        "colab": {
          "base_uri": "https://localhost:8080/"
        }
      },
      "execution_count": 16,
      "outputs": [
        {
          "output_type": "stream",
          "name": "stdout",
          "text": [
            "2025-05-13\n",
            "2025-05-13 13:59:09.790879\n"
          ]
        }
      ]
    },
    {
      "cell_type": "code",
      "source": [
        "#Data formatada\n",
        "data_formatada = data_atual.strftime('%d/%m/%Y')\n",
        "data_completa = datahora_atual.strftime('%d/%m/%Y %H:%M:%S')\n",
        "print(data_formatada)\n",
        "print(data_completa)"
      ],
      "metadata": {
        "id": "DStMumT-8V5i"
      },
      "execution_count": null,
      "outputs": []
    }
  ],
  "metadata": {
    "colab": {
      "name": "Conheça o Colab",
      "provenance": [],
      "include_colab_link": true
    },
    "kernelspec": {
      "display_name": "Python 3",
      "name": "python3"
    }
  },
  "nbformat": 4,
  "nbformat_minor": 0
}