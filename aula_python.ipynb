{
  "nbformat": 4,
  "nbformat_minor": 0,
  "metadata": {
    "colab": {
      "provenance": [],
      "toc_visible": true,
      "authorship_tag": "ABX9TyPetbBNY6i5M+46L6ZAfnpG",
      "include_colab_link": true
    },
    "kernelspec": {
      "name": "python3",
      "display_name": "Python 3"
    },
    "language_info": {
      "name": "python"
    }
  },
  "cells": [
    {
      "cell_type": "markdown",
      "metadata": {
        "id": "view-in-github",
        "colab_type": "text"
      },
      "source": [
        "<a href=\"https://colab.research.google.com/github/KauaGabriel713/Aulas-python/blob/main/aula_python.ipynb\" target=\"_parent\"><img src=\"https://colab.research.google.com/assets/colab-badge.svg\" alt=\"Open In Colab\"/></a>"
      ]
    },
    {
      "cell_type": "code",
      "execution_count": null,
      "metadata": {
        "colab": {
          "base_uri": "https://localhost:8080/"
        },
        "id": "_f3SNCEaYxua",
        "outputId": "21d65d15-0e77-47ca-a097-aea8e88df53f"
      },
      "outputs": [
        {
          "output_type": "stream",
          "name": "stdout",
          "text": [
            "[8, 9]\n"
          ]
        }
      ],
      "source": [
        "#exibe notas maiores que 7\n",
        "notas = [8,9,4,3,6]\n",
        "\n",
        "maiores = [nota for nota in notas if nota > 7]\n",
        "print(maiores)"
      ]
    },
    {
      "cell_type": "code",
      "source": [
        "#exibe notas maiores que 5\n",
        "notas = [9,7,4,3,6,2]\n",
        "maiores = [nota for nota in notas if nota > 5]\n",
        "print(maiores)"
      ],
      "metadata": {
        "colab": {
          "base_uri": "https://localhost:8080/"
        },
        "id": "UWzLtkGja6T1",
        "outputId": "ab52e968-393b-4b97-ca91-8e1f911c70a1"
      },
      "execution_count": null,
      "outputs": [
        {
          "output_type": "stream",
          "name": "stdout",
          "text": [
            "[9, 7, 6]\n"
          ]
        }
      ]
    },
    {
      "cell_type": "code",
      "source": [
        "#cria uma lista com os quadrados dos números de 0 a 9\n",
        "quadrados = [x**2 for x in range(10)]\n",
        "print(quadrados)"
      ],
      "metadata": {
        "colab": {
          "base_uri": "https://localhost:8080/"
        },
        "id": "Ut8A1XXbbamM",
        "outputId": "1be0ca15-6342-4a73-bf7f-6cc4991e1579"
      },
      "execution_count": null,
      "outputs": [
        {
          "output_type": "stream",
          "name": "stdout",
          "text": [
            "[0, 1, 4, 9, 16, 25, 36, 49, 64, 81]\n"
          ]
        }
      ]
    },
    {
      "cell_type": "code",
      "source": [
        "#Imprimir Lista\n",
        "lista = [1,2,3,4,5]\n",
        "print(lista)"
      ],
      "metadata": {
        "id": "r6vFCtbKb3W1"
      },
      "execution_count": null,
      "outputs": []
    },
    {
      "cell_type": "code",
      "source": [
        "#adicionar a lista\n",
        "lista = [2,4,8,10]\n",
        "lista.append(6)\n",
        "print(lista)"
      ],
      "metadata": {
        "colab": {
          "base_uri": "https://localhost:8080/"
        },
        "id": "TPk-VPqvcA_u",
        "outputId": "63b6deea-2e3d-4de7-aaf3-c38eb52196ac"
      },
      "execution_count": null,
      "outputs": [
        {
          "output_type": "stream",
          "name": "stdout",
          "text": [
            "[2, 4, 8, 10, 6]\n"
          ]
        }
      ]
    },
    {
      "cell_type": "code",
      "source": [
        "#filtrar apenas os números pares de uma lista\n",
        "lista = [1,2,3,4,5,6,7,8,9,10]\n",
        "pares = [x for x in lista if x % 2 == 0]\n",
        "print(pares)"
      ],
      "metadata": {
        "id": "m_oYA7HrcPLh"
      },
      "execution_count": null,
      "outputs": []
    },
    {
      "cell_type": "code",
      "source": [
        "num1 = input(\"digite um número:\")\n",
        "num2 = input(\"digite outro número:\")\n",
        "\n",
        "result1 = int(num1+num2)\n",
        "result2 = int(num1-num2)\n",
        "result3 = int(num1/num2)\n",
        "result4 = int(num1 * num2)\n",
        "\n",
        "print (\"Resultado da soma:\"+ result1)\n"
      ],
      "metadata": {
        "id": "c1byXZUGdciT"
      },
      "execution_count": null,
      "outputs": []
    },
    {
      "cell_type": "code",
      "source": [
        "#Strings\n",
        "nome = 'Kauã'\n",
        "for letra in nome:\n",
        "  print(letra)\n",
        "\n",
        "print(len(nome)) #imprime o tamanho da string\n",
        "print(nome.upper()) #imprime os caracteres maiúsculos\n",
        "print(nome.lower()) #Todos os caracteres minusculos"
      ],
      "metadata": {
        "colab": {
          "base_uri": "https://localhost:8080/"
        },
        "id": "aS8O6SGue4Gz",
        "outputId": "a31d1233-60d8-44ef-fa8b-aaa3f8078ac3"
      },
      "execution_count": null,
      "outputs": [
        {
          "output_type": "stream",
          "name": "stdout",
          "text": [
            "K\n",
            "a\n",
            "u\n",
            "ã\n",
            "4\n",
            "KAUÃ\n",
            "kauã\n"
          ]
        }
      ]
    },
    {
      "cell_type": "code",
      "source": [
        "#Lista nomes maiores que 5 letras\n",
        "nomes = ['João','Ana','Epaminondas','Godofredo','Lair','Setembrino']\n",
        "\n",
        "maisDe5 = [nome for nome in nomes if len(nome) > 4]\n",
        "print(maisDe5)"
      ],
      "metadata": {
        "colab": {
          "base_uri": "https://localhost:8080/"
        },
        "id": "6_hiZUGkfpUz",
        "outputId": "9239229d-d428-425b-a5cf-9c58ec3c2c47"
      },
      "execution_count": null,
      "outputs": [
        {
          "output_type": "stream",
          "name": "stdout",
          "text": [
            "['Epaminondas', 'Godofredo', 'Setembrino']\n"
          ]
        }
      ]
    },
    {
      "cell_type": "code",
      "source": [
        "#Caixa alta nomes com 4 letras ou menos\n",
        "nomes = ['João','Ana','Epaminondas','Godofredo','Lair','Setembrino']\n",
        "\n",
        "maisDe5 = [nome.upper() for nome in nomes if len(nome) <= 4]\n",
        "print(maisDe5)\n"
      ],
      "metadata": {
        "colab": {
          "base_uri": "https://localhost:8080/"
        },
        "id": "Bcn4IfGvg1ZZ",
        "outputId": "6494d0a3-45e3-405d-af06-a707d1658e87"
      },
      "execution_count": null,
      "outputs": [
        {
          "output_type": "stream",
          "name": "stdout",
          "text": [
            "['JOÃO', 'ANA', 'LAIR']\n"
          ]
        }
      ]
    },
    {
      "cell_type": "code",
      "source": [
        "#Dobrar os números impares de uma lista\n",
        "dobro_impares = [n*2 for n in numeros if n % 2 != 0]\n",
        "print(dobro_impares)"
      ],
      "metadata": {
        "id": "f4vsDKBEiHzJ"
      },
      "execution_count": null,
      "outputs": []
    },
    {
      "cell_type": "code",
      "source": [],
      "metadata": {
        "id": "V21o9dSSkCkc"
      },
      "execution_count": null,
      "outputs": []
    },
    {
      "cell_type": "code",
      "source": [
        "#Atribuir 2 pontos as notas menores que 5\n",
        "notas = [9.0, 4.5, 2.3, 6.0, 8.2, 5.3]\n",
        "notas_modificadas = [nota + 2 if nota < 5 else nota for nota in notas]\n",
        "print(notas_modificadas)"
      ],
      "metadata": {
        "collapsed": true,
        "id": "LQ3vhDnYiqGh"
      },
      "execution_count": null,
      "outputs": []
    },
    {
      "cell_type": "code",
      "source": [
        "#Filtrar apenas palavras com mais de 4 letras\n",
        "nomes = ['Cristiano', 'Alien', 'Ary', 'bete', 'Já']\n",
        "maisDe5 = [nome for nome in nomes if len(nome) > 4]\n",
        "print(maisDe5)"
      ],
      "metadata": {
        "colab": {
          "base_uri": "https://localhost:8080/"
        },
        "id": "to5Ee5lipX4B",
        "outputId": "793f62e6-8b2a-404d-9b13-ff566cb55dc3"
      },
      "execution_count": 19,
      "outputs": [
        {
          "output_type": "stream",
          "name": "stdout",
          "text": [
            "['Cristiano', 'Alien']\n"
          ]
        }
      ]
    },
    {
      "cell_type": "code",
      "source": [
        "#Dobrar todos Números da lista\n",
        "numeros = [3,7,2,8,1,4,10]\n",
        "dobro = [n*2 for n in numeros]\n",
        "print(dobro)"
      ],
      "metadata": {
        "colab": {
          "base_uri": "https://localhost:8080/"
        },
        "id": "4WdpCTLssSI0",
        "outputId": "ca6fc4d2-4a37-4717-8d92-fad10b5a3348"
      },
      "execution_count": 20,
      "outputs": [
        {
          "output_type": "stream",
          "name": "stdout",
          "text": [
            "[6, 14, 4, 16, 2, 8, 20]\n"
          ]
        }
      ]
    },
    {
      "cell_type": "code",
      "source": [
        "#Selecionar apenas os números pares\n",
        "numeros = [3,7,2,8,1,4,10]\n",
        "pares = [n for n in numeros if n % 2 == 0]\n",
        "print(pares)"
      ],
      "metadata": {
        "colab": {
          "base_uri": "https://localhost:8080/"
        },
        "id": "Fg5dgkFJsb-z",
        "outputId": "c3dc4892-db04-410b-8a7c-23192b83b6de"
      },
      "execution_count": 21,
      "outputs": [
        {
          "output_type": "stream",
          "name": "stdout",
          "text": [
            "[2, 8, 4, 10]\n"
          ]
        }
      ]
    },
    {
      "cell_type": "code",
      "source": [
        "#Criar uma nova lista onde os números pares são dobrados e os ímpares permanecem iguais\n",
        "numeros = [3,7,2,8,1,4,10]\n"
      ],
      "metadata": {
        "id": "z4XQkXbusiON"
      },
      "execution_count": null,
      "outputs": []
    }
  ]
}